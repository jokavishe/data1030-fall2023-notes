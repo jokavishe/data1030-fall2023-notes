{
 "cells": [
  {
   "cell_type": "markdown",
   "metadata": {},
   "source": [
    "**Goal**: Create a Machine learning pipeline that can accurately predict future, unseen data with a *low generalization error*"
   ]
  },
  {
   "cell_type": "markdown",
   "metadata": {},
   "source": [
    "## Steps of the Machine Learning Pipeline\n",
    "\n",
    "**Exploratory Data Analysis**: Analyze your data for missing values, errors, sanity checks\n",
    "\n",
    "**Split the Data**: Splitting the data into Train, Validation, Test\n",
    "\n",
    "**Preprocess the Data**: Ensure X and Y are numbers, oftentimes standardize them \n",
    "\n",
    "**Evaluation metric**: Different evaluation metrics can change the model's result\n",
    "\n",
    "**Choose the ML techniques**: Try multiple models!\n",
    "\n",
    "**Tune Hyperparameters**: Cross-validation, take the parameter combo that has the best validation score\n",
    "\n",
    "**Interpret the model**: Black boxes are not useful -- how did your model reach that result?"
   ]
  },
  {
   "cell_type": "markdown",
   "metadata": {},
   "source": []
  }
 ],
 "metadata": {
  "language_info": {
   "name": "python"
  },
  "orig_nbformat": 4
 },
 "nbformat": 4,
 "nbformat_minor": 2
}
